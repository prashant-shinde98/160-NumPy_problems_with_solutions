{
  "cells": [
    {
      "cell_type": "code",
      "execution_count": 1,
      "metadata": {},
      "outputs": [],
      "source": [
        "import numpy as np"
      ]
    },
    {
      "cell_type": "markdown",
      "metadata": {
        "id": "1uamk9vAix0o"
      },
      "source": [
        "###`Q-1:` Find the nearest element in the array to a given integer.\n",
        "```\n",
        "Ex:-\n",
        "a=23 and array - [10 17 24 31 38 45 52 59].\n",
        "Nearest element is 24\n",
        "```\n",
        "Hint: Read about this function `argmin()`"
      ]
    },
    {
      "cell_type": "code",
      "execution_count": 11,
      "metadata": {
        "id": "ddkpbpR6iySZ"
      },
      "outputs": [
        {
          "data": {
            "text/plain": [
              "24"
            ]
          },
          "execution_count": 11,
          "metadata": {},
          "output_type": "execute_result"
        }
      ],
      "source": [
        "# code here\n",
        "arr = np.array([10, 17, 24, 31, 38, 45, 52, 59])\n",
        "a = 23\n",
        "ind = np.abs(arr-a).argmin()\n",
        "arr[ind]"
      ]
    },
    {
      "cell_type": "markdown",
      "metadata": {
        "id": "Y1QkHyPpizyp"
      },
      "source": [
        "###`Q-2:` Replace multiples of 3 or 5 as 0 in the given array.\n",
        "```\n",
        "arr=[1 2 3 4 5 6 7 9]\n",
        "\n",
        "result-> [1 2 0 4 0 0 7 0]\n",
        "```"
      ]
    },
    {
      "cell_type": "code",
      "execution_count": 27,
      "metadata": {
        "id": "JjtxMlhWi25l"
      },
      "outputs": [
        {
          "data": {
            "text/plain": [
              "array([1, 2, 0, 4, 0, 0, 7, 0])"
            ]
          },
          "execution_count": 27,
          "metadata": {},
          "output_type": "execute_result"
        }
      ],
      "source": [
        "# code here\n",
        "arr = np.array([1, 2, 3, 4, 5, 6, 7, 9])\n",
        "arr[(arr%3==0) | (arr%5==0)] = 0\n",
        "arr"
      ]
    },
    {
      "cell_type": "markdown",
      "metadata": {
        "id": "Pi_dZSwTi4OI"
      },
      "source": [
        "###`Q-3:` Use Fancy Indexing.\n",
        "1. Double the array elements at  given indexes\n",
        "```\n",
        "arr = np.arrange(10)\n",
        "indexes = [0,3,4,9]\n",
        "```\n",
        "Result -> `[ 0  1  2  6  8  5  6  7  8 18]`"
      ]
    },
    {
      "cell_type": "code",
      "execution_count": 19,
      "metadata": {
        "id": "SHYuyuovi66N"
      },
      "outputs": [
        {
          "data": {
            "text/plain": [
              "array([ 0,  1,  2,  6,  8,  5,  6,  7,  8, 18])"
            ]
          },
          "execution_count": 19,
          "metadata": {},
          "output_type": "execute_result"
        }
      ],
      "source": [
        "# code here\n",
        "# 1\n",
        "arr = np.arange(10)\n",
        "arr[[0,3,4,9]] = arr[[0,3,4,9]]*2\n",
        "arr"
      ]
    },
    {
      "cell_type": "markdown",
      "metadata": {},
      "source": [
        "Q4. Using a given array make a different array as in below example\n",
        "```\n",
        "array = [1,2,3]\n",
        "result array -> [1 1 1 2 2 2 3 3 3]\n",
        "```\n",
        "Internal-repetion should be as length of the array."
      ]
    },
    {
      "cell_type": "code",
      "execution_count": 22,
      "metadata": {},
      "outputs": [
        {
          "data": {
            "text/plain": [
              "array([1, 1, 1, 2, 2, 2, 3, 3, 3])"
            ]
          },
          "execution_count": 22,
          "metadata": {},
          "output_type": "execute_result"
        }
      ],
      "source": [
        "# 2\n",
        "arr = np.array([1,2,3])\n",
        "np.repeat(arr,3)"
      ]
    },
    {
      "cell_type": "markdown",
      "metadata": {},
      "source": [
        " ### Q5 \n",
        "\n",
        "Hint:\n",
        "```\n",
        "if a is an array\n",
        "a = [2,4]\n",
        "a[[1,1,0,1]] will result in-> [4 4 2 4]\n",
        "```"
      ]
    },
    {
      "cell_type": "code",
      "execution_count": 25,
      "metadata": {},
      "outputs": [
        {
          "data": {
            "text/plain": [
              "array([4, 4, 2, 4])"
            ]
          },
          "execution_count": 25,
          "metadata": {},
          "output_type": "execute_result"
        }
      ],
      "source": [
        "# code here\n",
        "a = np.array([2,4])\n",
        "a[[1,1,0,1]]"
      ]
    },
    {
      "cell_type": "markdown",
      "metadata": {
        "id": "UDehG0tFi89i"
      },
      "source": [
        "###`Q-6:` Your are given an array which is havig some nan value. You job is to fill those nan values with most common element in the array.\n",
        "```\n",
        "arr=np.array([[1,2,np.nan],[4,2,6],[np.nan,np.nan,5]])\n",
        "\n",
        "```"
      ]
    },
    {
      "cell_type": "code",
      "execution_count": 36,
      "metadata": {
        "id": "YH13A6w9jEyu"
      },
      "outputs": [
        {
          "data": {
            "text/plain": [
              "array([[1., 2., 2.],\n",
              "       [4., 2., 6.],\n",
              "       [2., 2., 5.]])"
            ]
          },
          "execution_count": 36,
          "metadata": {},
          "output_type": "execute_result"
        }
      ],
      "source": [
        "# code here\n",
        "arr = np.array([[1,2,np.nan],[4,2,6],[np.nan,np.nan,5]])\n",
        "temp = arr[(~np.isnan(arr))].astype(np.int32)\n",
        "mode = np.bincount(temp).argmax()\n",
        "arr[np.isnan(arr)] = mode\n",
        "arr"
      ]
    },
    {
      "cell_type": "markdown",
      "metadata": {
        "id": "Tk2JnioUjJ_t"
      },
      "source": [
        "### `Q-7:` Write a NumPy program\n",
        "\n",
        "- to find the missing data in a given array. Return a boolean matrix.\n",
        "- also try to fill those missing values with 0. For that, you can use `np.nan_to_num(a)`\n",
        "\n",
        "```python\n",
        "import numpy as np\n",
        "\n",
        "np.array([[3, 2, np.nan, 1],\n",
        "          [10, 12, 10, 9],\n",
        "          [5, np.nan, 1, np.nan]])\n",
        "```"
      ]
    },
    {
      "cell_type": "code",
      "execution_count": 41,
      "metadata": {
        "id": "nPEBTQJ_jJZe"
      },
      "outputs": [
        {
          "data": {
            "text/plain": [
              "array([[ 3.,  2.,  0.,  1.],\n",
              "       [10., 12., 10.,  9.],\n",
              "       [ 5.,  0.,  1.,  0.]])"
            ]
          },
          "execution_count": 41,
          "metadata": {},
          "output_type": "execute_result"
        }
      ],
      "source": [
        "# code here\n",
        "a = np.array([[3, 2, np.nan, 1],\n",
        "          [10, 12, 10, 9],\n",
        "          [5, np.nan, 1, np.nan]])\n",
        "missing = np.isnan(a)       #missing in boolean\n",
        "np.nan_to_num(a)        #filled with zeo"
      ]
    },
    {
      "cell_type": "markdown",
      "metadata": {
        "id": "FFUnZtG7jNBH"
      },
      "source": [
        "###`Q-8:` Given two arrays, X and Y, construct the Cauchy matrix C.\n",
        "`Cij =1/(xi - yj)`\n",
        "\n",
        "http://en.wikipedia.org/wiki/Cauchy_matrix\n",
        "```\n",
        "x = numpy.array([1,2,3,4]).reshape((-1, 1)\n",
        "y = numpy.array([5,6,7])\n",
        "```"
      ]
    },
    {
      "cell_type": "code",
      "execution_count": 44,
      "metadata": {
        "id": "pQXHa38TjVEh"
      },
      "outputs": [
        {
          "data": {
            "text/plain": [
              "array([[-0.25      , -0.2       , -0.16666667],\n",
              "       [-0.33333333, -0.25      , -0.2       ],\n",
              "       [-0.5       , -0.33333333, -0.25      ],\n",
              "       [-1.        , -0.5       , -0.33333333]])"
            ]
          },
          "execution_count": 44,
          "metadata": {},
          "output_type": "execute_result"
        }
      ],
      "source": [
        "# code here\n",
        "x = np.array([1,2,3,4]).reshape(-1, 1)\n",
        "y = np.array([5,6,7])\n",
        "c = 1/(x-y)\n",
        "c"
      ]
    },
    {
      "cell_type": "markdown",
      "metadata": {
        "id": "EbkHZCF1jWNc"
      },
      "source": [
        "###`Q-9:` Plot this below equation.\n",
        "\n",
        "$$\\large y = \\frac{e^x - e^{-x}}{e^x + e^{-x}}$$\n",
        "\n",
        "**Note: This equation is called tanh activation function. In deep learning, many times this function is used. If you find some difference between the sigmoid function and this tanh function, note that to your notebook.**"
      ]
    },
    {
      "cell_type": "code",
      "execution_count": 78,
      "metadata": {
        "id": "n6OcN--FjbLC"
      },
      "outputs": [
        {
          "data": {
            "image/png": "[encoded data removed]",
            "text/plain": [
              "<Figure size 640x480 with 2 Axes>"
            ]
          },
          "metadata": {},
          "output_type": "display_data"
        }
      ],
      "source": [
        "# code here\n",
        "import matplotlib.pyplot as plt\n",
        "x = np.linspace(-5,5,100)\n",
        "y = (np.exp(x) - np.exp(-x))/(np.exp(x) + np.exp(-x))\n",
        "\n",
        "plt.subplot(1,2,1)\n",
        "\n",
        "plt.plot(x, y, label='tanh(x)', color='blue')\n",
        "plt.title('Tanh Activation Function')\n",
        "plt.xlabel('x')\n",
        "plt.ylabel('y')\n",
        "plt.grid(True)\n",
        "plt.axhline(0, color='black',linewidth=0.5)\n",
        "plt.axvline(0, color='black',linewidth=0.5)\n",
        "plt.legend()\n",
        "\n",
        "\n",
        "y2 = 1/(1+np.exp(-x))  # sigmoid\n",
        "plt.subplot(1,2,2)\n",
        "plt.plot(x, y2, label='sigmoid(x)', color='blue')\n",
        "plt.title('sigmoid Function')\n",
        "plt.xlabel('x')\n",
        "plt.ylabel('y')\n",
        "plt.grid(True)\n",
        "plt.axhline(0, color='black',linewidth=0.5)\n",
        "plt.axvline(0, color='black',linewidth=0.5)\n",
        "plt.legend()\n",
        "plt.show() \n",
        "\n",
        "# sigmoid give output in 0-1 whereas tanh gives in -1 to 1"
      ]
    },
    {
      "cell_type": "markdown",
      "metadata": {
        "id": "xujS-pu4jciH"
      },
      "source": [
        "### `Q-10:` Plot the below equation.\n",
        "\n",
        "$$\\large y = \\sqrt{36 - (x - 4)^2} + 2$$\n",
        "\n",
        "The range of x should be between -2 to 10. $x ∈ [-2, 10]$\n",
        "\n"
      ]
    },
    {
      "cell_type": "code",
      "execution_count": 79,
      "metadata": {
        "id": "7CagwKP_jhIQ"
      },
      "outputs": [
        {
          "data": {
            "text/plain": [
              "[<matplotlib.lines.Line2D at 0x2a4229a13d0>]"
            ]
          },
          "execution_count": 79,
          "metadata": {},
          "output_type": "execute_result"
        },
        {
          "data": {
            "image/png": "[encoded data removed]",
            "text/plain": [
              "<Figure size 640x480 with 1 Axes>"
            ]
          },
          "metadata": {},
          "output_type": "display_data"
        }
      ],
      "source": [
        "# code here\n",
        "x = np.linspace(-2,10,100)\n",
        "y = np.sqrt(36-((x-4)**2)+2)\n",
        "plt.plot(x,y)"
      ]
    },
    {
      "cell_type": "markdown",
      "metadata": {
        "id": "Jf14pxCfjiX1"
      },
      "source": [
        "### `Q-11:` Write a program implement Boradcasting Rule to check if two array can be added or not.\n",
        "Given tuples of shapes.\n",
        "```\n",
        "shape of a- (3,2,2)\n",
        "shape of b- (2,2)\n",
        "\n",
        "check_broadcast(a, b) -> return Boolean (True if can broadcasted, False other wise.)\n",
        "```"
      ]
    },
    {
      "cell_type": "code",
      "execution_count": 80,
      "metadata": {
        "id": "qSKGG0Yajlc8"
      },
      "outputs": [
        {
          "name": "stdout",
          "output_type": "stream",
          "text": [
            "True\n"
          ]
        }
      ],
      "source": [
        "# code here\n",
        "def broadcast(shape_a, shape_b):\n",
        "    # Reverse the shapes to align from the last dimension (rightmost)\n",
        "    shape_a = shape_a[::-1]\n",
        "    shape_b = shape_b[::-1]\n",
        "\n",
        "    # Iterate over the dimensions of the shorter shape\n",
        "    for i in range(min(len(shape_a), len(shape_b))):\n",
        "        if shape_a[i] != shape_b[i] and shape_a[i] != 1 and shape_b[i] != 1:\n",
        "            return False\n",
        "\n",
        "    return True\n",
        "\n",
        "# Test the function with the given shapes\n",
        "shape_a = (3, 2, 2)\n",
        "shape_b = (2, 2)\n",
        "\n",
        "print(broadcast(shape_a, shape_b))  # Output: True\n"
      ]
    }
  ],
  "metadata": {
    "colab": {
      "provenance": []
    },
    "kernelspec": {
      "display_name": "base",
      "language": "python",
      "name": "python3"
    },
    "language_info": {
      "codemirror_mode": {
        "name": "ipython",
        "version": 3
      },
      "file_extension": ".py",
      "mimetype": "text/x-python",
      "name": "python",
      "nbconvert_exporter": "python",
      "pygments_lexer": "ipython3",
      "version": "3.12.4"
    }
  },
  "nbformat": 4,
  "nbformat_minor": 0
}
