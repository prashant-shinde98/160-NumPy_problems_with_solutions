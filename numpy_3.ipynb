{
  "cells": [
    {
      "cell_type": "code",
      "execution_count": 1,
      "metadata": {},
      "outputs": [],
      "source": [
        "import numpy as np"
      ]
    },
    {
      "cell_type": "markdown",
      "metadata": {
        "id": "J88qfqQEk_sT"
      },
      "source": [
        "###`Q-1:` Create a random 3x4 matrix with value between 0-100. And perform below tasks\n",
        "\n",
        "    i. Sort this matrix. np.sort()\n",
        "    ii. Sort this matrix based on values in 2nd column.\n",
        "    iii. Sort this matrix based on max value in each row.\n",
        "    iv. Sort based on elements value.\n"
      ]
    },
    {
      "cell_type": "markdown",
      "metadata": {
        "id": "xpOwOdhqlE9R"
      },
      "source": [
        "See examples:\n",
        "```\n",
        "arr =\n",
        "    [[92 90 74]\n",
        "    [ 6 63 93]\n",
        "    [15 93 96]\n",
        "    [70 60 48]]\n",
        "```\n",
        "```\n",
        "i. np.sort\n",
        "[[74 90 92]\n",
        " [ 6 63 93]\n",
        " [15 93 96]\n",
        " [48 60 70]]\n",
        "\n",
        "ii. based on 2nd column\n",
        "[[70 60 48]\n",
        " [ 6 63 93]\n",
        " [92 90 74]\n",
        " [15 93 96]]\n",
        "\n",
        "iii. based on row max- ascending\n",
        "[[15 93 96]\n",
        " [ 6 63 93]\n",
        " [92 90 74]\n",
        " [70 60 48]]\n",
        "\n",
        "iv. based on elements value\n",
        "[[ 6 15 48]\n",
        " [60 63 70]\n",
        " [74 90 92]\n",
        " [93 93 96]]\n",
        "\n",
        "```"
      ]
    },
    {
      "cell_type": "code",
      "execution_count": 8,
      "metadata": {
        "id": "Auy-guUwlALv"
      },
      "outputs": [
        {
          "data": {
            "text/plain": [
              "array([[51, 92, 14, 71],\n",
              "       [60, 20, 82, 86],\n",
              "       [74, 74, 87, 99]])"
            ]
          },
          "execution_count": 8,
          "metadata": {},
          "output_type": "execute_result"
        }
      ],
      "source": [
        "# code here\n",
        "np.random.seed(42)\n",
        "a = np.random.randint(0,101, size=(3,4))\n",
        "a\n"
      ]
    },
    {
      "cell_type": "code",
      "execution_count": 48,
      "metadata": {},
      "outputs": [
        {
          "data": {
            "text/plain": [
              "array([[92, 90, 74],\n",
              "       [ 6, 63, 93],\n",
              "       [15, 93, 96],\n",
              "       [70, 60, 48]])"
            ]
          },
          "execution_count": 48,
          "metadata": {},
          "output_type": "execute_result"
        }
      ],
      "source": [
        "arr = np.array([[92, 90, 74],\n",
        "    [ 6, 63, 93],\n",
        "    [15, 93, 96],\n",
        "    [70, 60, 48]])\n",
        "arr"
      ]
    },
    {
      "cell_type": "code",
      "execution_count": 12,
      "metadata": {},
      "outputs": [
        {
          "data": {
            "text/plain": [
              "array([[74, 90, 92],\n",
              "       [ 6, 63, 93],\n",
              "       [15, 93, 96],\n",
              "       [48, 60, 70]])"
            ]
          },
          "execution_count": 12,
          "metadata": {},
          "output_type": "execute_result"
        }
      ],
      "source": [
        "# 1\n",
        "np.sort(arr)"
      ]
    },
    {
      "cell_type": "code",
      "execution_count": 14,
      "metadata": {},
      "outputs": [
        {
          "data": {
            "text/plain": [
              "array([[70, 60, 48],\n",
              "       [ 6, 63, 93],\n",
              "       [92, 90, 74],\n",
              "       [15, 93, 96]])"
            ]
          },
          "execution_count": 14,
          "metadata": {},
          "output_type": "execute_result"
        }
      ],
      "source": [
        "# 2 based on second col\n",
        "arr[arr[:, 1].argsort()]\n"
      ]
    },
    {
      "cell_type": "code",
      "execution_count": 35,
      "metadata": {},
      "outputs": [
        {
          "data": {
            "text/plain": [
              "array([[15, 93, 96],\n",
              "       [ 6, 63, 93],\n",
              "       [92, 90, 74],\n",
              "       [70, 60, 48]])"
            ]
          },
          "execution_count": 35,
          "metadata": {},
          "output_type": "execute_result"
        }
      ],
      "source": [
        "# 3 based on max value in each row\n",
        "arr[np.max(arr, axis=1).argsort()[::-1]]"
      ]
    },
    {
      "cell_type": "code",
      "execution_count": 52,
      "metadata": {},
      "outputs": [
        {
          "data": {
            "text/plain": [
              "array([[ 6, 15, 48, 60],\n",
              "       [63, 70, 74, 90],\n",
              "       [92, 93, 93, 96]])"
            ]
          },
          "execution_count": 52,
          "metadata": {},
          "output_type": "execute_result"
        }
      ],
      "source": [
        "# 4 sort based on element value\n",
        "rr = np.sort(arr.flatten()).reshape(3, 4)\n",
        "rr"
      ]
    },
    {
      "cell_type": "markdown",
      "metadata": {
        "id": "Jx_I3gx9lBay"
      },
      "source": [
        "###`Q-5:` There is an array of marks of 5 students in 4 subjects. Further you are asked to perform below task.\n",
        "    i. Add marks every student of an extra subject in the same array.\n",
        "    ii. Add two new students marks in respective 5 subjects.(one subject added in above task)\n",
        "    iii. Add extra column with sum of all subjects(5-subjects) marks\n",
        "    iv. Sort the array(non-ascending order) on total marks column--one added in above task. Show top 2 rows.\n",
        "\n",
        "Note: Change dimension of arrays during concatenation or appending if required."
      ]
    },
    {
      "cell_type": "markdown",
      "metadata": {
        "id": "lXF-CE6ylNIw"
      },
      "source": [
        "Given Array-\n",
        "```\n",
        "marks = [[13, 10,  9, 33],\n",
        "       [63, 46, 90, 42],\n",
        "       [39, 76, 13, 29],\n",
        "       [82,  9, 29, 78],\n",
        "       [67, 61, 59, 36]]\n",
        "\n",
        "extra_subject = [41, 87, 72, 36, 92]\n",
        "#Two extra students record-\n",
        "rec1 = [77, 83, 98, 95, 89]\n",
        "rec2 = [92, 71, 52, 61, 53]\n",
        "```"
      ]
    },
    {
      "cell_type": "code",
      "execution_count": 59,
      "metadata": {
        "id": "7YKsWO2olMkq"
      },
      "outputs": [
        {
          "data": {
            "text/plain": [
              "array([[13, 10,  9, 33, 41],\n",
              "       [63, 46, 90, 42, 87],\n",
              "       [39, 76, 13, 29, 72],\n",
              "       [82,  9, 29, 78, 36],\n",
              "       [67, 61, 59, 36, 92]])"
            ]
          },
          "execution_count": 59,
          "metadata": {},
          "output_type": "execute_result"
        }
      ],
      "source": [
        "# code here\n",
        "# 5 add col\n",
        "marks = np.array([[13, 10,  9, 33],\n",
        "       [63, 46, 90, 42],\n",
        "       [39, 76, 13, 29],\n",
        "       [82,  9, 29, 78],\n",
        "       [67, 61, 59, 36]])\n",
        "extra_subject = np.array([[41], [87], [72], [36], [92]])\n",
        "\n",
        "new = np.hstack((marks,extra_subject))\n",
        "new"
      ]
    },
    {
      "cell_type": "code",
      "execution_count": 60,
      "metadata": {},
      "outputs": [
        {
          "data": {
            "text/plain": [
              "array([[13, 10,  9, 33, 41],\n",
              "       [63, 46, 90, 42, 87],\n",
              "       [39, 76, 13, 29, 72],\n",
              "       [82,  9, 29, 78, 36],\n",
              "       [67, 61, 59, 36, 92],\n",
              "       [77, 83, 98, 95, 89],\n",
              "       [92, 71, 52, 61, 53]])"
            ]
          },
          "execution_count": 60,
          "metadata": {},
          "output_type": "execute_result"
        }
      ],
      "source": [
        "# 6 add 2 new students marks\n",
        "rec1 = np.array([[77, 83, 98, 95, 89]])\n",
        "rec2 = np.array([[92, 71, 52, 61, 53]])\n",
        "new1 = np.vstack((new, rec1, rec2))\n",
        "new1"
      ]
    },
    {
      "cell_type": "code",
      "execution_count": 65,
      "metadata": {},
      "outputs": [
        {
          "data": {
            "text/plain": [
              "array([[ 13,  10,   9,  33,  41, 106],\n",
              "       [ 63,  46,  90,  42,  87, 328],\n",
              "       [ 39,  76,  13,  29,  72, 229],\n",
              "       [ 82,   9,  29,  78,  36, 234],\n",
              "       [ 67,  61,  59,  36,  92, 315],\n",
              "       [ 77,  83,  98,  95,  89, 442],\n",
              "       [ 92,  71,  52,  61,  53, 329]])"
            ]
          },
          "execution_count": 65,
          "metadata": {},
          "output_type": "execute_result"
        }
      ],
      "source": [
        "# 7 add extra col with sum of all marks\n",
        "sum_ = np.sum(new1, axis=1)\n",
        "new2 = np.column_stack((new1, sum_))\n",
        "new2"
      ]
    },
    {
      "cell_type": "code",
      "execution_count": 68,
      "metadata": {},
      "outputs": [
        {
          "data": {
            "text/plain": [
              "array([[ 77,  83,  98,  95,  89, 442],\n",
              "       [ 92,  71,  52,  61,  53, 329]])"
            ]
          },
          "execution_count": 68,
          "metadata": {},
          "output_type": "execute_result"
        }
      ],
      "source": [
        "# 8 Sort the array in non-ascending order based on the total marks column and show top 2 rows\n",
        "sort_ar = new2[new2[:, -1].argsort()[::-1]]\n",
        "sort_ar[:2]"
      ]
    },
    {
      "cell_type": "markdown",
      "metadata": {
        "id": "VmOyK_8klRqR"
      },
      "source": [
        "###`Q-9:` Find unique arrays from a 2D array column wise and row wise.\n",
        "```\n",
        "arr = np.array([[1,2,3,3,1,1],\n",
        "                [0,9,1,2,8,8],\n",
        "                [1,2,3,8,8,8],\n",
        "                [1,2,3,3,1,1]])\n",
        "```\n",
        "Expected Result-\n",
        "```\n",
        "Row Wise\n",
        "[[0 9 1 2 8 8]\n",
        " [1 2 3 3 1 1]\n",
        " [1 2 3 8 8 8]]\n",
        "\n",
        "Col Wise\n",
        "[[1 1 2 3 3]\n",
        " [0 8 9 1 2]\n",
        " [1 8 2 3 8]\n",
        " [1 1 2 3 3]]\n",
        "```"
      ]
    },
    {
      "cell_type": "code",
      "execution_count": 70,
      "metadata": {
        "id": "LJl10VQrlU5q"
      },
      "outputs": [
        {
          "data": {
            "text/plain": [
              "array([[0, 9, 1, 2, 8, 8],\n",
              "       [1, 2, 3, 3, 1, 1],\n",
              "       [1, 2, 3, 8, 8, 8]])"
            ]
          },
          "execution_count": 70,
          "metadata": {},
          "output_type": "execute_result"
        }
      ],
      "source": [
        "# code here\n",
        "arr = np.array([[1,2,3,3,1,1],\n",
        "                [0,9,1,2,8,8],\n",
        "                [1,2,3,8,8,8],\n",
        "                [1,2,3,3,1,1]])\n",
        "#9 row wise\n",
        "np.unique(arr, axis=0)"
      ]
    },
    {
      "cell_type": "code",
      "execution_count": 74,
      "metadata": {},
      "outputs": [
        {
          "data": {
            "text/plain": [
              "array([[1, 1, 2, 3, 3],\n",
              "       [0, 8, 9, 1, 2],\n",
              "       [1, 8, 2, 3, 8],\n",
              "       [1, 1, 2, 3, 3]])"
            ]
          },
          "execution_count": 74,
          "metadata": {},
          "output_type": "execute_result"
        }
      ],
      "source": [
        "#10 col wise\n",
        "np.unique(arr.T, axis=0).T"
      ]
    },
    {
      "cell_type": "markdown",
      "metadata": {
        "id": "RaXwVkywlWY2"
      },
      "source": [
        "###`Q-11:` Flip given 2-D array along both axes at the same time."
      ]
    },
    {
      "cell_type": "code",
      "execution_count": 75,
      "metadata": {
        "id": "mN7-4G8Kleeq"
      },
      "outputs": [
        {
          "data": {
            "text/plain": [
              "array([[12, 11, 10,  9],\n",
              "       [ 8,  7,  6,  5],\n",
              "       [ 4,  3,  2,  1]])"
            ]
          },
          "execution_count": 75,
          "metadata": {},
          "output_type": "execute_result"
        }
      ],
      "source": [
        "# code here\n",
        "a = np.array([[1,2,3,4],\n",
        "              [5,6,7,8],\n",
        "              [9,10,11,12]])\n",
        "np.flip(a)"
      ]
    },
    {
      "cell_type": "markdown",
      "metadata": {
        "id": "X0S7BUNTlfoq"
      },
      "source": [
        "### `Q-12:` Get row numbers of NumPy array having element larger than X.\n",
        "```\n",
        "arr = [[1,2,3,4,5],\n",
        "      [10,-3,30,4,5],\n",
        "      [3,2,5,-4,5],\n",
        "      [9,7,3,6,5]]\n",
        "\n",
        "X = 6\n",
        "```"
      ]
    },
    {
      "cell_type": "code",
      "execution_count": 78,
      "metadata": {
        "id": "bi8jRmWhlkBU"
      },
      "outputs": [
        {
          "data": {
            "text/plain": [
              "array([1, 1, 3, 3], dtype=int64)"
            ]
          },
          "execution_count": 78,
          "metadata": {},
          "output_type": "execute_result"
        }
      ],
      "source": [
        "# code here\n",
        "a = np.array([[1,2,3,4,5],\n",
        "      [10,-3,30,4,5],\n",
        "      [3,2,5,-4,5],\n",
        "      [9,7,3,6,5]])\n",
        "np.where(a>6)[0]     #rows indices 2 in 1st row, 2 in 3rd row"
      ]
    },
    {
      "cell_type": "markdown",
      "metadata": {
        "id": "DSCQMo4mlnDG"
      },
      "source": [
        "### `Q-13:` How to convert an array of arrays into a flat 1d array?\n"
      ]
    },
    {
      "cell_type": "code",
      "execution_count": 79,
      "metadata": {
        "id": "QZhSkUT2lsJW"
      },
      "outputs": [],
      "source": [
        "# These arrays are given.\n",
        "arr1 = np.arange(3)\n",
        "arr2 = np.arange(3,7)\n",
        "arr3 = np.arange(7,10)"
      ]
    },
    {
      "cell_type": "code",
      "execution_count": null,
      "metadata": {},
      "outputs": [],
      "source": [
        "# Use np.ravel() for a flattened view.  multidims in 1D\n",
        "# Use np.flatten() for a copy.\n",
        "# Use reshape(-1) to change the shape.\n",
        "# Use np.concatenate() for combining an array of arrays.\n",
        "# Use list comprehension for lists."
      ]
    },
    {
      "cell_type": "code",
      "execution_count": 83,
      "metadata": {
        "id": "f42OXNrFls0I"
      },
      "outputs": [
        {
          "data": {
            "text/plain": [
              "array([0, 1, 2, 3, 4, 5, 6, 7, 8, 9])"
            ]
          },
          "execution_count": 83,
          "metadata": {},
          "output_type": "execute_result"
        }
      ],
      "source": [
        "# code here                               \n",
        "np.concatenate((arr1,arr2,arr3))"
      ]
    },
    {
      "cell_type": "markdown",
      "metadata": {
        "id": "A1J4oOVCluqO"
      },
      "source": [
        "### `Q-14:` You are given a array. You have to find the minimum and maximum array element and remove that from the array.\n"
      ]
    },
    {
      "cell_type": "code",
      "execution_count": 99,
      "metadata": {
        "id": "c6kmgtUJlybZ"
      },
      "outputs": [
        {
          "data": {
            "text/plain": [
              "(0, 8, array([1, 3, 5, 7, 2, 4, 6]))"
            ]
          },
          "execution_count": 99,
          "metadata": {},
          "output_type": "execute_result"
        }
      ],
      "source": [
        "# code here\n",
        "arr = np.array([1, 3, 5, 7, 2, 4, 6, 8, 0])\n",
        "\n",
        "min_ele = arr.min()\n",
        "max_ele = arr.max()\n",
        "\n",
        "arr2 = arr[(arr != min_ele) & (arr != max_ele)]\n",
        "\n",
        "min_ele, max_ele, arr2"
      ]
    },
    {
      "cell_type": "markdown",
      "metadata": {
        "id": "0dHN1sdnl0Jy"
      },
      "source": [
        "### `Q-15:` You are given an arrays. You have to limit this array's elements between 100 to 200. $arr ∈ [100, 700]$. So replace those values accordingly with the minimum and maximum value. Then sort the array and perform the cumulative sum of that array."
      ]
    },
    {
      "cell_type": "code",
      "execution_count": 108,
      "metadata": {
        "id": "a3YF_E-Hlza7"
      },
      "outputs": [
        {
          "name": "stdout",
          "output_type": "stream",
          "text": [
            "limited arr:  [100 100 100 105 700 353 244 700 700 700 400 242]\n",
            "sorted arr:  [100 100 100 105 242 244 353 400 700 700 700 700]\n",
            "cumulative sum:  [ 100  200  300  405  647  891 1244 1644 2344 3044 3744 4444]\n"
          ]
        }
      ],
      "source": [
        "# code here\n",
        "arr = np.array([40,50,97,105,764,353,244,900,9005,5444,400,242])\n",
        "arr_clip = np.clip(arr,a_min=100, a_max=700)\n",
        "print('limited arr: ', arr_clip)\n",
        "# 16\n",
        "arr1 = np.sort(arr_clip)\n",
        "print('sorted arr: ', arr1)\n",
        "# 17\n",
        "arr2 = np.cumsum(arr1)\n",
        "print('cumulative sum: ', arr2)"
      ]
    },
    {
      "cell_type": "markdown",
      "metadata": {
        "id": "cXj90Susl4-I"
      },
      "source": [
        "### `Q-18:` You are given a array ($arr ∈ [0, 1]$). First you have round off the elements upto 3 decimal places and compare that\n",
        "- 0th percentile == minimum value of the array\n",
        "- 100th percentile == maximum value of the array\n",
        "- also find the difference betwen 51th percenile and 50th percentile values"
      ]
    },
    {
      "cell_type": "code",
      "execution_count": 112,
      "metadata": {
        "id": "SgBEHodgl7Lo"
      },
      "outputs": [
        {
          "data": {
            "text/plain": [
              "array([0.        , 0.05263158, 0.10526316, 0.15789474, 0.21052632,\n",
              "       0.26315789, 0.31578947, 0.36842105, 0.42105263, 0.47368421,\n",
              "       0.52631579, 0.57894737, 0.63157895, 0.68421053, 0.73684211,\n",
              "       0.78947368, 0.84210526, 0.89473684, 0.94736842, 1.        ])"
            ]
          },
          "execution_count": 112,
          "metadata": {},
          "output_type": "execute_result"
        }
      ],
      "source": [
        "# code here\n",
        "arr = np.linspace(0,1,20)\n",
        "arr"
      ]
    },
    {
      "cell_type": "code",
      "execution_count": 113,
      "metadata": {},
      "outputs": [
        {
          "data": {
            "text/plain": [
              "array([0.   , 0.053, 0.105, 0.158, 0.211, 0.263, 0.316, 0.368, 0.421,\n",
              "       0.474, 0.526, 0.579, 0.632, 0.684, 0.737, 0.789, 0.842, 0.895,\n",
              "       0.947, 1.   ])"
            ]
          },
          "execution_count": 113,
          "metadata": {},
          "output_type": "execute_result"
        }
      ],
      "source": [
        "# 18 round off the elements upto 3 decimal places\n",
        "np.round(arr, 3)"
      ]
    },
    {
      "cell_type": "code",
      "execution_count": 114,
      "metadata": {},
      "outputs": [
        {
          "data": {
            "text/plain": [
              "0.0"
            ]
          },
          "execution_count": 114,
          "metadata": {},
          "output_type": "execute_result"
        }
      ],
      "source": [
        "# 19 0th percentile == minimum value of the array\n",
        "np.percentile(arr, 0)"
      ]
    },
    {
      "cell_type": "code",
      "execution_count": 115,
      "metadata": {},
      "outputs": [
        {
          "data": {
            "text/plain": [
              "1.0"
            ]
          },
          "execution_count": 115,
          "metadata": {},
          "output_type": "execute_result"
        }
      ],
      "source": [
        "# 20 100th percentile == maximum value of the array\n",
        "np.percentile(arr, 100)"
      ]
    },
    {
      "cell_type": "code",
      "execution_count": 116,
      "metadata": {},
      "outputs": [
        {
          "data": {
            "text/plain": [
              "0.009999999999999898"
            ]
          },
          "execution_count": 116,
          "metadata": {},
          "output_type": "execute_result"
        }
      ],
      "source": [
        "# 21 find the difference betwen 51th percenile and 50th percentile values\n",
        "diff = (np.percentile(arr, 51)) - (np.percentile(arr,50))\n",
        "diff"
      ]
    }
  ],
  "metadata": {
    "colab": {
      "provenance": []
    },
    "kernelspec": {
      "display_name": "base",
      "language": "python",
      "name": "python3"
    },
    "language_info": {
      "codemirror_mode": {
        "name": "ipython",
        "version": 3
      },
      "file_extension": ".py",
      "mimetype": "text/x-python",
      "name": "python",
      "nbconvert_exporter": "python",
      "pygments_lexer": "ipython3",
      "version": "3.12.4"
    }
  },
  "nbformat": 4,
  "nbformat_minor": 0
}
